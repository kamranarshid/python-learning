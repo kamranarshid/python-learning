{
 "cells": [
  {
   "cell_type": "code",
   "execution_count": 6,
   "metadata": {},
   "outputs": [],
   "source": [
    "#!/usr/bin/env python\n",
    "# coding: utf-8\n",
    "\n",
    "import pyodbc\n",
    "\n",
    "# Some other example server values are\n",
    "# server = 'localhost\\sqlexpress' # for a named instance\n",
    "# server = 'myserver,port' # to specify an alternate port\n",
    "server = '192.168.0.131'\n",
    "database = 'qa_dts'\n",
    "username = 'application_user'\n",
    "password = 'app@321'\n",
    "cnxn = pyodbc.connect(\n",
    "    'DRIVER={ODBC Driver 17 for SQL Server};SERVER=' + server + ';DATABASE=' + database + ';UID=' + username + ';PWD=' + password)\n",
    "cursor = cnxn.cursor()\n"
   ]
  },
  {
   "cell_type": "code",
   "execution_count": 9,
   "metadata": {},
   "outputs": [
    {
     "name": "stdout",
     "output_type": "stream",
     "text": [
      "(1, 'admin@fraudlens.com', '741265da2e0878137335b9fd77c525ba', datetime.datetime(2020, 12, 16, 14, 17, 57), 'Franklin', 'Din', 2, 'Active', 0, '192.168.0.240', datetime.datetime(2015, 9, 3, 16, 33, 37), '', None, 0, None, 'DTLT-L')\n",
      "(8, 'sonia.sabeen@zigron.com', '741265da2e0878137335b9fd77c525ba', datetime.datetime(2020, 12, 1, 11, 4, 24), 'Keeler', 'Angela', 9, 'Active', 0, '', datetime.datetime(1899, 12, 30, 0, 0), 'Inactive on 31-08-20', None, 0, None, 'DTLT-P')\n",
      "(15, 'muhammad.kamran@Zigron.com', '741265da2e0878137335b9fd77c525ba', datetime.datetime(2021, 2, 3, 11, 32, 50), 'muhammad', 'kamran arshad', 3, 'Active', 0, '', datetime.datetime(1899, 12, 30, 0, 0), '', None, 0, None, 'DTLT-P')\n",
      "(18, 'saba.riaz@zigron.com', '741265da2e0878137335b9fd77c525ba', datetime.datetime(2020, 12, 15, 14, 47, 39), 'Saba', 'Riaz', 2, 'Active', 0, '', datetime.datetime(1899, 12, 30, 0, 0), '', None, 0, None, 'DTLT-P')\n",
      "(23, 'kawakami.alice@fraudlens.com', '741265da2e0878137335b9fd77c525ba', datetime.datetime(2019, 12, 30, 12, 4, 29), 'kawakami', 'Alice', 9, 'Active', 0, None, None, None, None, 0, '2567410683', 'DTLT-P')\n",
      "(40, 'mehreen.kanwal@zigron.com', '741265da2e0878137335b9fd77c525ba', datetime.datetime(2020, 11, 27, 16, 34, 22), 'Mehreen', 'Kanwal', 9, 'Active', None, None, None, None, None, 0, None, 'DTLT-P')\n",
      "(48, 'hina.tariq@zigron.com', '741265da2e0878137335b9fd77c525ba', datetime.datetime(2020, 12, 21, 12, 46, 25), 'Hina', 'Tariq', 3, 'Active', None, None, None, None, None, 0, None, 'DTLT-P')\n",
      "(54, 'saba.riaz@fraudlens.com', '741265da2e0878137335b9fd77c525ba', datetime.datetime(2020, 12, 17, 14, 28, 31), 'Andrea', 'Hibbets', 6, 'Active', None, None, None, None, None, 0, '0f6f52e630', 'DTLT-P')\n",
      "(58, 'imran.ullah', '741265da2e0878137335b9fd77c525ba', datetime.datetime(2020, 12, 23, 15, 36, 42), 'Imran', 'Ullah', 3, 'Active', None, None, None, None, None, 0, None, 'DTLT-P')\n",
      "(62, 'saba.riaz@dentalens.com', '741265da2e0878137335b9fd77c525ba', datetime.datetime(2020, 12, 29, 16, 47, 22), 'saba', 'riaz', 2, 'Active', None, None, None, None, None, 0, None, 'DTLT-P')\n",
      "(69, 'Muhammad.arslan@zigron.com', '741265da2e0878137335b9fd77c525ba', datetime.datetime(2020, 12, 9, 16, 39, 39), 'Muhammad', 'Arslan', 2, 'Active', None, None, None, None, 'Multiplan', 0, None, 'DTLT-P')\n",
      "(71, 'fatima@zigron.com', 'ac211660e2863b2a7232db3fbdfbbd59', datetime.datetime(2020, 12, 15, 8, 39, 17), 'fatima', 'sultan', 2, 'Active', None, None, None, None, 'Fraudlens', 0, None, 'DTLT-P')\n",
      "(72, 'asad.asrar@zigron.com', 'ecd00aa1acd325ba7575cb0f638b04a5', datetime.datetime(2020, 12, 15, 15, 4, 29), 'asad', 'asrar', 2, 'Active', None, None, None, None, 'Fraudlens', 0, None, 'DTLT-P')\n",
      "(73, 'alpha@gmail.com', '741265da2e0878137335b9fd77c525ba', datetime.datetime(2020, 12, 18, 8, 12, 43), 'alpha', 'omega', 2, 'Active', None, None, None, None, 'Fraudlens', 0, None, 'DTLT-P')\n",
      "(74, 'javed.iqbal@zigron.com', '741265da2e0878137335b9fd77c525ba', datetime.datetime(2020, 12, 22, 10, 50, 35), 'javed', 'iqbal', 3, 'Inactive', None, None, None, None, 'Fraudlens', 1, None, 'DTLT-P')\n",
      "Records more than 3\n"
     ]
    }
   ],
   "source": [
    "# Sample select query\n",
    "cursor.execute(\"SELECT * from users;\")\n",
    "\n",
    "row = cursor.fetchone()\n",
    "while row:\n",
    "    print(row)\n",
    "    row = cursor.fetchone()\n",
    "\n",
    "if cursor.rowcount < 3:\n",
    "    print(\"Records more than 3\")\n",
    "else:\n",
    "    print(\"ok\")"
   ]
  },
  {
   "cell_type": "code",
   "execution_count": 7,
   "metadata": {},
   "outputs": [
    {
     "ename": "NameError",
     "evalue": "name 'row' is not defined",
     "output_type": "error",
     "traceback": [
      "\u001b[1;31m---------------------------------------------------------------------------\u001b[0m",
      "\u001b[1;31mNameError\u001b[0m                                 Traceback (most recent call last)",
      "\u001b[1;32m<ipython-input-7-25fcfa5f70b9>\u001b[0m in \u001b[0;36m<module>\u001b[1;34m\u001b[0m\n\u001b[1;32m----> 1\u001b[1;33m \u001b[1;32mwhile\u001b[0m \u001b[0mrow\u001b[0m\u001b[1;33m:\u001b[0m\u001b[1;33m\u001b[0m\u001b[1;33m\u001b[0m\u001b[0m\n\u001b[0m\u001b[0;32m      2\u001b[0m     \u001b[0mprint\u001b[0m\u001b[1;33m(\u001b[0m\u001b[0mrow\u001b[0m\u001b[1;33m)\u001b[0m\u001b[1;33m\u001b[0m\u001b[1;33m\u001b[0m\u001b[0m\n\u001b[0;32m      3\u001b[0m     \u001b[0mrow\u001b[0m \u001b[1;33m=\u001b[0m \u001b[0mcursor\u001b[0m\u001b[1;33m.\u001b[0m\u001b[0mfetchone\u001b[0m\u001b[1;33m(\u001b[0m\u001b[1;33m)\u001b[0m\u001b[1;33m\u001b[0m\u001b[1;33m\u001b[0m\u001b[0m\n\u001b[0;32m      4\u001b[0m \u001b[1;33m\u001b[0m\u001b[0m\n\u001b[0;32m      5\u001b[0m \u001b[1;32mif\u001b[0m \u001b[0mcursor\u001b[0m\u001b[1;33m.\u001b[0m\u001b[0mrowcount\u001b[0m \u001b[1;33m<\u001b[0m \u001b[1;36m3\u001b[0m\u001b[1;33m:\u001b[0m\u001b[1;33m\u001b[0m\u001b[1;33m\u001b[0m\u001b[0m\n",
      "\u001b[1;31mNameError\u001b[0m: name 'row' is not defined"
     ]
    }
   ],
   "source": []
  },
  {
   "cell_type": "code",
   "execution_count": null,
   "metadata": {},
   "outputs": [],
   "source": []
  }
 ],
 "metadata": {
  "kernelspec": {
   "display_name": "Python 3",
   "language": "python",
   "name": "python3"
  },
  "language_info": {
   "codemirror_mode": {
    "name": "ipython",
    "version": 3
   },
   "file_extension": ".py",
   "mimetype": "text/x-python",
   "name": "python",
   "nbconvert_exporter": "python",
   "pygments_lexer": "ipython3",
   "version": "3.9.1"
  }
 },
 "nbformat": 4,
 "nbformat_minor": 4
}
